{
 "cells": [
  {
   "cell_type": "code",
   "execution_count": 21,
   "metadata": {
    "id": "V7brOxXv3ssW"
   },
   "outputs": [],
   "source": [
    "import os, shutil, pathlib\n",
    "import torchvision\n",
    "import torch\n",
    "import pandas as pd\n",
    "\n",
    "from torch import nn\n",
    "from torchvision import models\n",
    "from torch.utils.data import DataLoader, Dataset\n",
    "from datetime import datetime\n",
    "\n",
    "import numpy as np\n",
    "import time\n",
    "\n",
    "import matplotlib.pyplot as plt\n",
    "import sklearn\n",
    "from sklearn.datasets import make_classification\n",
    "from sklearn.metrics import confusion_matrix, ConfusionMatrixDisplay\n",
    "from sklearn.metrics import accuracy_score\n",
    "from sklearn.model_selection import train_test_split\n",
    "from sklearn.svm import SVC\n",
    "\n",
    "from PIL import Image\n"
   ]
  },
  {
   "cell_type": "code",
   "execution_count": 3,
   "metadata": {
    "id": "ZSWQobdlzM0M"
   },
   "outputs": [],
   "source": [
    "casez = []\n",
    "casez = np.append(casez,\"W15.0\")\n",
    "casez = np.append(casez,\"W15.25\")\n",
    "casez = np.append(casez,\"W15.5\")\n",
    "casez = np.append(casez,\"W15.75\")\n",
    "casez = np.append(casez,\"W16.0\")\n",
    "casez = np.append(casez,\"W16.2\")\n",
    "casez = np.append(casez,\"W16.3\")\n",
    "casez = np.append(casez,\"W16.4\")\n",
    "casez = np.append(casez,\"W16.5\")\n",
    "casez = np.append(casez,\"W16.6\")\n",
    "casez = np.append(casez,\"W16.7\")\n",
    "casez = np.append(casez,\"W16.8\")\n",
    "casez = np.append(casez,\"W17.0\")\n",
    "casez = np.append(casez,\"W17.25\")\n",
    "casez = np.append(casez,\"W17.5\")\n",
    "casez = np.append(casez,\"W17.75\")\n",
    "casez = np.append(casez,\"W18.0\")"
   ]
  },
  {
   "cell_type": "code",
   "execution_count": 4,
   "metadata": {
    "id": "YyTozVmkzM0N"
   },
   "outputs": [],
   "source": [
    "c = []\n",
    "c = np.append(c,15)\n",
    "c = np.append(c,15.25)\n",
    "c = np.append(c,15.5)\n",
    "c = np.append(c,15.75)\n",
    "c = np.append(c,16)\n",
    "c = np.append(c,16.2)\n",
    "c = np.append(c,16.3)\n",
    "c = np.append(c,16.4)\n",
    "c = np.append(c,16.5)\n",
    "c = np.append(c,16.6)\n",
    "c = np.append(c,16.7)\n",
    "c = np.append(c,16.8)\n",
    "c = np.append(c,17)\n",
    "c = np.append(c,17.25)\n",
    "c = np.append(c,17.5)\n",
    "c = np.append(c,17.75)\n",
    "c = np.append(c,18)"
   ]
  },
  {
   "cell_type": "code",
   "execution_count": 5,
   "metadata": {
    "id": "6pf4PFyrzM0O"
   },
   "outputs": [],
   "source": [
    "path = pathlib.Path(\"/storage/disqs/ML-Anderson3D/Data\")\n",
    "os.chdir(path)\n",
    "shutil.rmtree(f\"{path}/workspace\")\n",
    "os.mkdir(f\"{path}/workspace\")\n",
    "\n",
    "for i in range(0,len(casez)):\n",
    "    src = os.listdir(f\"{path}/{casez[i]}\")\n",
    "    for file in src:\n",
    "        if file.endswith(\".jpg\"):\n",
    "            file_name = os.path.join(f\"{path}/{casez[i]}\", file)\n",
    "            if os.path.isfile(file_name):\n",
    "                shutil.copy(file_name, f\"{path}/workspace\")"
   ]
  },
  {
   "cell_type": "code",
   "execution_count": 6,
   "metadata": {
    "id": "z8mOVao_zM0P"
   },
   "outputs": [],
   "source": [
    "shutil.rmtree(f\"{path}/labels\")\n",
    "os.mkdir(f\"{path}/labels\")\n",
    "for i in range(0,len(casez)):\n",
    "    csv_input = pd.read_csv(f'{path}/{casez[i]}/labels.csv')\n",
    "    csv_input.replace(to_replace=0,value=i,inplace = True)\n",
    "    csv_input.to_csv(f'{path}/labels/labels{c[i]}.csv', index=False)\n",
    "\n",
    "\n",
    "src = os.listdir(f'{path}/labels')\n",
    "a = pd.concat([pd.read_csv(f'{path}/labels/{file}') for file in src ], ignore_index=True)\n",
    "a.to_csv(f'{path}/labels/labels.csv', index=False)\n"
   ]
  },
  {
   "cell_type": "code",
   "execution_count": 7,
   "metadata": {
    "id": "yuneJkPG4HP0"
   },
   "outputs": [],
   "source": [
    "class CustomImageDataset(Dataset):\n",
    "    def __init__(self, annotations_file, img_dir, transform=None, target_transform=None):\n",
    "        self.img_labels = pd.read_csv(annotations_file)\n",
    "        self.img_dir = img_dir\n",
    "        self.transform = transform\n",
    "        self.target_transform = target_transform\n",
    "\n",
    "    def __len__(self):\n",
    "        return len(self.img_labels)\n",
    "\n",
    "    def __getitem__(self, idx):\n",
    "        img_path = os.path.join(self.img_dir, self.img_labels.iloc[idx, 0])\n",
    "        image = Image.open(img_path)\n",
    "        image = np.asarray(image)\n",
    "        image = np.moveaxis(image, -1, 0)\n",
    "        label = self.img_labels.iloc[idx, 1]\n",
    "        if self.transform:\n",
    "            image = self.transform(image)\n",
    "        if self.target_transform:\n",
    "            label = self.target_transform(label)\n",
    "        return image, label"
   ]
  },
  {
   "cell_type": "code",
   "execution_count": 25,
   "metadata": {
    "colab": {
     "base_uri": "https://localhost:8080/"
    },
    "id": "TjNlVkzY4Q7e",
    "outputId": "bcaf14ee-7a22-4a2b-f071-302839fb1836"
   },
   "outputs": [
    {
     "name": "stdout",
     "output_type": "stream",
     "text": [
      "6800\n"
     ]
    }
   ],
   "source": [
    "batch_size = 32\n",
    "\n",
    "data = CustomImageDataset(annotations_file=f\"{path}/labels/labels.csv\",img_dir=f\"{path}/workspace\")\n",
    "print(len(data))\n",
    "#Create Validation set\n",
    "from torch.utils.data import random_split\n",
    "training_data, validation_data, test_data = random_split(data,[320*len(c),60*len(c),20*len(c)])\n",
    "\n",
    "# Create data loaders.\n",
    "\n",
    "train_dataloader = DataLoader(training_data, batch_size=batch_size)\n",
    "validation_dataloader = DataLoader(validation_data, batch_size=batch_size)\n",
    "test_dataloader = DataLoader(test_data, batch_size=batch_size)"
   ]
  },
  {
   "cell_type": "code",
   "execution_count": 26,
   "metadata": {
    "colab": {
     "base_uri": "https://localhost:8080/"
    },
    "id": "pXf6vf0gGqLN",
    "outputId": "e9f0f098-9452-4132-ad1b-46a23a3d6943"
   },
   "outputs": [
    {
     "name": "stdout",
     "output_type": "stream",
     "text": [
      "Feature batch shape: torch.Size([32, 3, 100, 100])\n",
      "tensor([[[[0, 0, 0,  ..., 0, 0, 0],\n",
      "          [0, 0, 0,  ..., 0, 0, 0],\n",
      "          [0, 0, 0,  ..., 0, 0, 0],\n",
      "          ...,\n",
      "          [0, 0, 0,  ..., 0, 0, 0],\n",
      "          [0, 0, 0,  ..., 0, 0, 0],\n",
      "          [0, 0, 0,  ..., 0, 0, 0]],\n",
      "\n",
      "         [[0, 0, 0,  ..., 0, 0, 0],\n",
      "          [0, 0, 0,  ..., 0, 0, 0],\n",
      "          [0, 0, 0,  ..., 0, 0, 0],\n",
      "          ...,\n",
      "          [0, 0, 0,  ..., 0, 0, 0],\n",
      "          [0, 0, 0,  ..., 0, 0, 0],\n",
      "          [0, 0, 0,  ..., 0, 0, 0]],\n",
      "\n",
      "         [[0, 0, 0,  ..., 0, 0, 0],\n",
      "          [0, 0, 0,  ..., 0, 0, 0],\n",
      "          [0, 0, 0,  ..., 0, 0, 0],\n",
      "          ...,\n",
      "          [0, 0, 0,  ..., 0, 0, 0],\n",
      "          [0, 0, 0,  ..., 0, 0, 0],\n",
      "          [0, 0, 0,  ..., 0, 0, 0]]],\n",
      "\n",
      "\n",
      "        [[[0, 0, 0,  ..., 0, 0, 0],\n",
      "          [0, 0, 0,  ..., 0, 0, 0],\n",
      "          [0, 0, 0,  ..., 0, 0, 0],\n",
      "          ...,\n",
      "          [0, 0, 0,  ..., 0, 0, 0],\n",
      "          [0, 0, 0,  ..., 0, 0, 0],\n",
      "          [0, 0, 0,  ..., 0, 0, 0]],\n",
      "\n",
      "         [[0, 0, 0,  ..., 0, 0, 0],\n",
      "          [0, 0, 0,  ..., 0, 0, 0],\n",
      "          [0, 0, 0,  ..., 0, 0, 0],\n",
      "          ...,\n",
      "          [0, 0, 0,  ..., 0, 0, 0],\n",
      "          [0, 0, 0,  ..., 0, 0, 0],\n",
      "          [0, 0, 0,  ..., 0, 0, 0]],\n",
      "\n",
      "         [[0, 0, 0,  ..., 0, 0, 0],\n",
      "          [0, 0, 0,  ..., 0, 0, 0],\n",
      "          [0, 0, 0,  ..., 0, 0, 0],\n",
      "          ...,\n",
      "          [0, 0, 0,  ..., 0, 0, 0],\n",
      "          [0, 0, 0,  ..., 0, 0, 0],\n",
      "          [0, 0, 0,  ..., 0, 0, 0]]],\n",
      "\n",
      "\n",
      "        [[[0, 0, 0,  ..., 0, 0, 0],\n",
      "          [0, 0, 0,  ..., 0, 0, 0],\n",
      "          [0, 0, 0,  ..., 0, 0, 0],\n",
      "          ...,\n",
      "          [0, 0, 0,  ..., 0, 0, 0],\n",
      "          [0, 0, 0,  ..., 0, 0, 0],\n",
      "          [0, 0, 0,  ..., 0, 0, 0]],\n",
      "\n",
      "         [[0, 0, 0,  ..., 0, 0, 0],\n",
      "          [0, 0, 0,  ..., 0, 0, 0],\n",
      "          [0, 0, 0,  ..., 0, 0, 0],\n",
      "          ...,\n",
      "          [0, 0, 0,  ..., 0, 0, 0],\n",
      "          [0, 0, 0,  ..., 0, 0, 0],\n",
      "          [0, 0, 0,  ..., 0, 0, 0]],\n",
      "\n",
      "         [[0, 0, 0,  ..., 0, 0, 0],\n",
      "          [0, 0, 0,  ..., 0, 0, 0],\n",
      "          [0, 0, 0,  ..., 0, 0, 0],\n",
      "          ...,\n",
      "          [0, 0, 0,  ..., 0, 0, 0],\n",
      "          [0, 0, 0,  ..., 0, 0, 0],\n",
      "          [0, 0, 0,  ..., 0, 0, 0]]],\n",
      "\n",
      "\n",
      "        ...,\n",
      "\n",
      "\n",
      "        [[[0, 0, 0,  ..., 0, 0, 0],\n",
      "          [0, 0, 0,  ..., 0, 0, 0],\n",
      "          [0, 0, 0,  ..., 0, 0, 0],\n",
      "          ...,\n",
      "          [0, 0, 0,  ..., 0, 0, 0],\n",
      "          [0, 0, 0,  ..., 0, 0, 0],\n",
      "          [0, 0, 0,  ..., 0, 0, 0]],\n",
      "\n",
      "         [[0, 0, 0,  ..., 0, 0, 0],\n",
      "          [0, 0, 0,  ..., 0, 0, 0],\n",
      "          [0, 0, 0,  ..., 0, 0, 0],\n",
      "          ...,\n",
      "          [0, 0, 0,  ..., 0, 0, 0],\n",
      "          [0, 0, 0,  ..., 0, 0, 0],\n",
      "          [0, 0, 0,  ..., 0, 0, 0]],\n",
      "\n",
      "         [[0, 0, 0,  ..., 0, 0, 0],\n",
      "          [0, 0, 0,  ..., 0, 0, 0],\n",
      "          [0, 0, 0,  ..., 0, 0, 0],\n",
      "          ...,\n",
      "          [0, 0, 0,  ..., 0, 0, 0],\n",
      "          [0, 0, 0,  ..., 0, 0, 0],\n",
      "          [0, 0, 0,  ..., 0, 0, 0]]],\n",
      "\n",
      "\n",
      "        [[[0, 0, 0,  ..., 0, 0, 0],\n",
      "          [0, 0, 0,  ..., 0, 0, 0],\n",
      "          [0, 0, 0,  ..., 0, 0, 0],\n",
      "          ...,\n",
      "          [0, 0, 0,  ..., 0, 0, 0],\n",
      "          [0, 0, 0,  ..., 0, 0, 0],\n",
      "          [0, 0, 0,  ..., 0, 0, 0]],\n",
      "\n",
      "         [[0, 0, 0,  ..., 0, 0, 0],\n",
      "          [0, 0, 0,  ..., 0, 0, 0],\n",
      "          [0, 0, 0,  ..., 0, 0, 0],\n",
      "          ...,\n",
      "          [0, 0, 0,  ..., 0, 0, 0],\n",
      "          [0, 0, 0,  ..., 0, 0, 0],\n",
      "          [0, 0, 0,  ..., 0, 0, 0]],\n",
      "\n",
      "         [[0, 0, 0,  ..., 0, 0, 0],\n",
      "          [0, 0, 0,  ..., 0, 0, 0],\n",
      "          [0, 0, 0,  ..., 0, 0, 0],\n",
      "          ...,\n",
      "          [0, 0, 0,  ..., 0, 0, 0],\n",
      "          [0, 0, 0,  ..., 0, 0, 0],\n",
      "          [0, 0, 0,  ..., 0, 0, 0]]],\n",
      "\n",
      "\n",
      "        [[[0, 0, 0,  ..., 0, 0, 0],\n",
      "          [0, 0, 0,  ..., 0, 0, 0],\n",
      "          [0, 0, 0,  ..., 0, 0, 0],\n",
      "          ...,\n",
      "          [0, 0, 0,  ..., 0, 0, 0],\n",
      "          [0, 0, 0,  ..., 0, 0, 0],\n",
      "          [0, 0, 0,  ..., 0, 0, 0]],\n",
      "\n",
      "         [[0, 0, 0,  ..., 0, 0, 0],\n",
      "          [0, 0, 0,  ..., 0, 0, 0],\n",
      "          [0, 0, 0,  ..., 0, 0, 0],\n",
      "          ...,\n",
      "          [0, 0, 0,  ..., 0, 0, 0],\n",
      "          [0, 0, 0,  ..., 0, 0, 0],\n",
      "          [0, 0, 0,  ..., 0, 0, 0]],\n",
      "\n",
      "         [[0, 0, 0,  ..., 0, 0, 0],\n",
      "          [0, 0, 0,  ..., 0, 0, 0],\n",
      "          [0, 0, 0,  ..., 0, 0, 0],\n",
      "          ...,\n",
      "          [0, 0, 0,  ..., 0, 0, 0],\n",
      "          [0, 0, 0,  ..., 0, 0, 0],\n",
      "          [0, 0, 0,  ..., 0, 0, 0]]]], dtype=torch.uint8)\n",
      "Labels batch shape: torch.Size([32])\n",
      "Label: tensor([ 6,  4, 16,  1,  2,  0, 14, 10,  7, 12,  6, 10, 10,  3, 15, 10,  5, 15,\n",
      "         8, 10,  0, 16,  7,  5, 16,  6, 11, 12, 16, 15,  8,  3])\n"
     ]
    }
   ],
   "source": [
    "train_features, train_labels = next(iter(train_dataloader))\n",
    "print(f\"Feature batch shape: {train_features.size()}\")\n",
    "print(train_features)\n",
    "print(f\"Labels batch shape: {train_labels.size()}\")\n",
    "img = train_features[0].squeeze()\n",
    "label = train_labels\n",
    "print(f\"Label: {label}\")"
   ]
  },
  {
   "cell_type": "code",
   "execution_count": 27,
   "metadata": {
    "colab": {
     "base_uri": "https://localhost:8080/"
    },
    "id": "kRUtdZRP376z",
    "outputId": "cd232c8c-6a9b-4b4d-b41c-880d6c508683"
   },
   "outputs": [
    {
     "name": "stdout",
     "output_type": "stream",
     "text": [
      "Using cuda device\n",
      "ResNet(\n",
      "  (conv1): Conv2d(3, 64, kernel_size=(5, 5), stride=(1, 1), bias=False)\n",
      "  (bn1): BatchNorm2d(64, eps=1e-05, momentum=0.1, affine=True, track_running_stats=True)\n",
      "  (relu): ReLU(inplace=True)\n",
      "  (maxpool): MaxPool2d(kernel_size=3, stride=2, padding=1, dilation=1, ceil_mode=False)\n",
      "  (layer1): Sequential(\n",
      "    (0): BasicBlock(\n",
      "      (conv1): Conv2d(64, 64, kernel_size=(3, 3), stride=(1, 1), padding=(1, 1), bias=False)\n",
      "      (bn1): BatchNorm2d(64, eps=1e-05, momentum=0.1, affine=True, track_running_stats=True)\n",
      "      (relu): ReLU(inplace=True)\n",
      "      (conv2): Conv2d(64, 64, kernel_size=(3, 3), stride=(1, 1), padding=(1, 1), bias=False)\n",
      "      (bn2): BatchNorm2d(64, eps=1e-05, momentum=0.1, affine=True, track_running_stats=True)\n",
      "    )\n",
      "    (1): BasicBlock(\n",
      "      (conv1): Conv2d(64, 64, kernel_size=(3, 3), stride=(1, 1), padding=(1, 1), bias=False)\n",
      "      (bn1): BatchNorm2d(64, eps=1e-05, momentum=0.1, affine=True, track_running_stats=True)\n",
      "      (relu): ReLU(inplace=True)\n",
      "      (conv2): Conv2d(64, 64, kernel_size=(3, 3), stride=(1, 1), padding=(1, 1), bias=False)\n",
      "      (bn2): BatchNorm2d(64, eps=1e-05, momentum=0.1, affine=True, track_running_stats=True)\n",
      "    )\n",
      "  )\n",
      "  (layer2): Sequential(\n",
      "    (0): BasicBlock(\n",
      "      (conv1): Conv2d(64, 128, kernel_size=(3, 3), stride=(2, 2), padding=(1, 1), bias=False)\n",
      "      (bn1): BatchNorm2d(128, eps=1e-05, momentum=0.1, affine=True, track_running_stats=True)\n",
      "      (relu): ReLU(inplace=True)\n",
      "      (conv2): Conv2d(128, 128, kernel_size=(3, 3), stride=(1, 1), padding=(1, 1), bias=False)\n",
      "      (bn2): BatchNorm2d(128, eps=1e-05, momentum=0.1, affine=True, track_running_stats=True)\n",
      "      (downsample): Sequential(\n",
      "        (0): Conv2d(64, 128, kernel_size=(1, 1), stride=(2, 2), bias=False)\n",
      "        (1): BatchNorm2d(128, eps=1e-05, momentum=0.1, affine=True, track_running_stats=True)\n",
      "      )\n",
      "    )\n",
      "    (1): BasicBlock(\n",
      "      (conv1): Conv2d(128, 128, kernel_size=(3, 3), stride=(1, 1), padding=(1, 1), bias=False)\n",
      "      (bn1): BatchNorm2d(128, eps=1e-05, momentum=0.1, affine=True, track_running_stats=True)\n",
      "      (relu): ReLU(inplace=True)\n",
      "      (conv2): Conv2d(128, 128, kernel_size=(3, 3), stride=(1, 1), padding=(1, 1), bias=False)\n",
      "      (bn2): BatchNorm2d(128, eps=1e-05, momentum=0.1, affine=True, track_running_stats=True)\n",
      "    )\n",
      "  )\n",
      "  (layer3): Sequential(\n",
      "    (0): BasicBlock(\n",
      "      (conv1): Conv2d(128, 256, kernel_size=(3, 3), stride=(2, 2), padding=(1, 1), bias=False)\n",
      "      (bn1): BatchNorm2d(256, eps=1e-05, momentum=0.1, affine=True, track_running_stats=True)\n",
      "      (relu): ReLU(inplace=True)\n",
      "      (conv2): Conv2d(256, 256, kernel_size=(3, 3), stride=(1, 1), padding=(1, 1), bias=False)\n",
      "      (bn2): BatchNorm2d(256, eps=1e-05, momentum=0.1, affine=True, track_running_stats=True)\n",
      "      (downsample): Sequential(\n",
      "        (0): Conv2d(128, 256, kernel_size=(1, 1), stride=(2, 2), bias=False)\n",
      "        (1): BatchNorm2d(256, eps=1e-05, momentum=0.1, affine=True, track_running_stats=True)\n",
      "      )\n",
      "    )\n",
      "    (1): BasicBlock(\n",
      "      (conv1): Conv2d(256, 256, kernel_size=(3, 3), stride=(1, 1), padding=(1, 1), bias=False)\n",
      "      (bn1): BatchNorm2d(256, eps=1e-05, momentum=0.1, affine=True, track_running_stats=True)\n",
      "      (relu): ReLU(inplace=True)\n",
      "      (conv2): Conv2d(256, 256, kernel_size=(3, 3), stride=(1, 1), padding=(1, 1), bias=False)\n",
      "      (bn2): BatchNorm2d(256, eps=1e-05, momentum=0.1, affine=True, track_running_stats=True)\n",
      "    )\n",
      "  )\n",
      "  (layer4): Sequential(\n",
      "    (0): BasicBlock(\n",
      "      (conv1): Conv2d(256, 512, kernel_size=(3, 3), stride=(2, 2), padding=(1, 1), bias=False)\n",
      "      (bn1): BatchNorm2d(512, eps=1e-05, momentum=0.1, affine=True, track_running_stats=True)\n",
      "      (relu): ReLU(inplace=True)\n",
      "      (conv2): Conv2d(512, 512, kernel_size=(3, 3), stride=(1, 1), padding=(1, 1), bias=False)\n",
      "      (bn2): BatchNorm2d(512, eps=1e-05, momentum=0.1, affine=True, track_running_stats=True)\n",
      "      (downsample): Sequential(\n",
      "        (0): Conv2d(256, 512, kernel_size=(1, 1), stride=(2, 2), bias=False)\n",
      "        (1): BatchNorm2d(512, eps=1e-05, momentum=0.1, affine=True, track_running_stats=True)\n",
      "      )\n",
      "    )\n",
      "    (1): BasicBlock(\n",
      "      (conv1): Conv2d(512, 512, kernel_size=(3, 3), stride=(1, 1), padding=(1, 1), bias=False)\n",
      "      (bn1): BatchNorm2d(512, eps=1e-05, momentum=0.1, affine=True, track_running_stats=True)\n",
      "      (relu): ReLU(inplace=True)\n",
      "      (conv2): Conv2d(512, 512, kernel_size=(3, 3), stride=(1, 1), padding=(1, 1), bias=False)\n",
      "      (bn2): BatchNorm2d(512, eps=1e-05, momentum=0.1, affine=True, track_running_stats=True)\n",
      "    )\n",
      "  )\n",
      "  (avgpool): AdaptiveAvgPool2d(output_size=(1, 1))\n",
      "  (fc): Linear(in_features=512, out_features=17, bias=True)\n",
      ")\n"
     ]
    }
   ],
   "source": [
    "# Get cpu or gpu device for training.\n",
    "device = \"cuda\" if torch.cuda.is_available() else \"cpu\"\n",
    "print(f\"Using {device} device\")\n",
    "\n",
    "model = models.resnet18()\n",
    "model.conv1 = nn.Conv2d(in_channels=3, out_channels=64, kernel_size=5, stride=1, padding=0, bias=False)\n",
    "model.fc = nn.Linear(in_features=512,out_features=(len(c)), bias=True)\n",
    "if torch.cuda.is_available():\n",
    "    model.cuda()\n",
    "print(model)"
   ]
  },
  {
   "cell_type": "code",
   "execution_count": 28,
   "metadata": {
    "id": "eJFVTw3B4hhG"
   },
   "outputs": [],
   "source": [
    "def train(dataloader, model, loss_fn, optimizer):\n",
    "    size = len(dataloader.dataset)\n",
    "    model.train()\n",
    "    for batch, (X, y) in enumerate(dataloader):\n",
    "        X, y = X.to(device), y.to(device)\n",
    "\n",
    "        # Compute prediction error\n",
    "        pred = model(X)\n",
    "        loss = loss_fn(pred, y)\n",
    "\n",
    "        # Backpropagation\n",
    "        optimizer.zero_grad()\n",
    "        loss.backward()\n",
    "        optimizer.step()\n",
    "\n",
    "        if batch % 100 == 0:\n",
    "            loss, current = loss.item(), batch * len(X)\n",
    "            print(f\"loss: {loss:>7f}  [{current:>5d}/{size:>5d}]\")"
   ]
  },
  {
   "cell_type": "code",
   "execution_count": 29,
   "metadata": {
    "id": "NfqdF69u4pj0"
   },
   "outputs": [],
   "source": [
    "loss_fn = nn.CrossEntropyLoss()\n",
    "optimizer = torch.optim.SGD(model.parameters(), lr=1e-3)"
   ]
  },
  {
   "cell_type": "code",
   "execution_count": 30,
   "metadata": {
    "colab": {
     "base_uri": "https://localhost:8080/"
    },
    "id": "WvWsj3Qm4u9P",
    "outputId": "eddb073d-b5af-4752-8370-11df06fa21c5"
   },
   "outputs": [
    {
     "name": "stdout",
     "output_type": "stream",
     "text": [
      "Epoch 1 \t Runtime: 19.52s \t Training Loss: 2.862275791168213 \t Validation Loss: 2.4650107324123383\n",
      "Validation Loss Decreased(inf--->78.880343) \t Saving The Model\n",
      "Epoch 2 \t Runtime: 19.82s \t Training Loss: 2.8245709517422846 \t Validation Loss: 2.459673911333084\n",
      "Validation Loss Decreased(78.880343--->78.709565) \t Saving The Model\n",
      "Epoch 3 \t Runtime: 19.83s \t Training Loss: 2.8051252982195685 \t Validation Loss: 2.453853517770767\n",
      "Validation Loss Decreased(78.709565--->78.523313) \t Saving The Model\n",
      "Epoch 4 \t Runtime: 19.94s \t Training Loss: 2.7867092595380893 \t Validation Loss: 2.448232352733612\n",
      "Validation Loss Decreased(78.523313--->78.343435) \t Saving The Model\n",
      "Epoch 5 \t Runtime: 20.68s \t Training Loss: 2.768707003312952 \t Validation Loss: 2.4424102902412415\n",
      "Validation Loss Decreased(78.343435--->78.157129) \t Saving The Model\n",
      "Epoch 6 \t Runtime: 22.95s \t Training Loss: 2.750780494072858 \t Validation Loss: 2.436170369386673\n",
      "Validation Loss Decreased(78.157129--->77.957452) \t Saving The Model\n",
      "Epoch 7 \t Runtime: 19.89s \t Training Loss: 2.732663174236522 \t Validation Loss: 2.428539603948593\n",
      "Validation Loss Decreased(77.957452--->77.713267) \t Saving The Model\n",
      "Epoch 8 \t Runtime: 19.82s \t Training Loss: 2.7141812997705794 \t Validation Loss: 2.420976012945175\n",
      "Validation Loss Decreased(77.713267--->77.471232) \t Saving The Model\n",
      "Epoch 9 \t Runtime: 20.0s \t Training Loss: 2.6951291350757374 \t Validation Loss: 2.412367880344391\n",
      "Validation Loss Decreased(77.471232--->77.195772) \t Saving The Model\n",
      "Epoch 10 \t Runtime: 20.17s \t Training Loss: 2.67541427191566 \t Validation Loss: 2.403801679611206\n",
      "Validation Loss Decreased(77.195772--->76.921654) \t Saving The Model\n",
      "Total runtime: 207.9s\n"
     ]
    }
   ],
   "source": [
    "epochs = 10\n",
    "min_valid_loss = np.inf\n",
    "start = time.time()\n",
    "tl = np.array([])\n",
    "vl = np.array([])\n",
    "\n",
    "for e in range(epochs):\n",
    "    st = time.time()\n",
    "    train_loss = 0.0\n",
    "    model.train()     # Optional when not using Model Specific layer\n",
    "    for data, labels in train_dataloader:\n",
    "        data = data.float()\n",
    "        if torch.cuda.is_available():\n",
    "            data, labels = data.cuda(), labels.cuda()\n",
    "        \n",
    "        optimizer.zero_grad()\n",
    "        target = model(data)\n",
    "        loss = loss_fn(target,labels)\n",
    "        loss.backward()\n",
    "        optimizer.step()\n",
    "        train_loss += loss.item()\n",
    "    \n",
    "    valid_loss = 0.0\n",
    "    model.eval()     # Optional when not using Model Specific layer\n",
    "    for data, labels in validation_dataloader:\n",
    "        data = data.float()\n",
    "        if torch.cuda.is_available():\n",
    "            data, labels = data.cuda(), labels.cuda()\n",
    "        \n",
    "        target = model(data)\n",
    "        loss = loss_fn(target,labels)\n",
    "        valid_loss = loss.item() * data.size(0)\n",
    "    \n",
    "    et = time.time()\n",
    "    rt = et-st\n",
    "\n",
    "    print(f'Epoch {e+1} \\t Runtime: {round(rt,2)}s \\t Training Loss: {train_loss / len(train_dataloader)} \\t Validation Loss: {valid_loss / len(validation_dataloader)}')\n",
    "    if min_valid_loss > valid_loss:\n",
    "        print(f'Validation Loss Decreased({min_valid_loss:.6f}--->{valid_loss:.6f}) \\t Saving The Model')\n",
    "        min_valid_loss = valid_loss\n",
    "        # Saving State Dict\n",
    "        torch.save(model.state_dict(), 'saved_model.pth')\n",
    "    else:\n",
    "      print(\" \")\n",
    "    \n",
    "    tl = np.append(tl, train_loss / len(train_dataloader))\n",
    "    vl = np.append(vl,valid_loss / len(validation_dataloader))\n",
    "\n",
    "end = time.time()\n",
    "total = end-start\n",
    "print(f\"Total runtime: {round(total,2)}s\")"
   ]
  },
  {
   "cell_type": "code",
   "execution_count": 31,
   "metadata": {
    "colab": {
     "base_uri": "https://localhost:8080/",
     "height": 295
    },
    "id": "rc87XTcZpCn7",
    "outputId": "c6e697ec-910b-4113-fc5d-e48b0833c2db"
   },
   "outputs": [
    {
     "data": {
      "image/png": "[encoded data removed]",
      "text/plain": [
       "<Figure size 432x288 with 1 Axes>"
      ]
     },
     "metadata": {
      "needs_background": "light"
     },
     "output_type": "display_data"
    }
   ],
   "source": [
    "x = np.arange(0,epochs,1)\n",
    "plt.plot(x+1, tl, \"b+\", label=\"Training loss\")\n",
    "np.savetxt(f\"csv/tl-C{len(c)}-N400-{datetime.now()}.csv\", tl, delimiter=\",\")\n",
    "plt.plot(x+1, vl, \"ro\", label=\"Validation loss\")\n",
    "np.savetxt(f\"csv/vl-C{len(c)}-N400-{datetime.now()}.csv\", vl, delimiter=\",\")\n",
    "plt.title(\"Training and validation loss\")\n",
    "plt.xlabel(\"epochs\")\n",
    "plt.legend()\n",
    "plt.show()"
   ]
  },
  {
   "cell_type": "code",
   "execution_count": 32,
   "metadata": {
    "id": "XBb38sTJ8mdZ"
   },
   "outputs": [],
   "source": [
    "\n",
    "predict = []\n",
    "p = []\n",
    "device = \"cuda\" if torch.cuda.is_available() else \"cpu\"\n",
    "model.eval()\n",
    "for i in range(0,20*len(c)):\n",
    "    x, y = test_data[i][0], test_data[i][1]\n",
    "    x = x.reshape(1,3,100,100)\n",
    "    x = torch.from_numpy(x)\n",
    "    x = x.float()\n",
    "    with torch.no_grad():\n",
    "        pred = model(x.cuda()) if torch.cuda.is_available() else model(x)\n",
    "        predicted, actual = pred[0].argmax(0), y \n",
    "        predicted = torch.Tensor.cpu(predicted)\n",
    "        predict = np.append(predict, predicted)\n",
    "        p = np.append(p, actual)\n"
   ]
  },
  {
   "cell_type": "code",
   "execution_count": 33,
   "metadata": {
    "colab": {
     "base_uri": "https://localhost:8080/",
     "height": 597
    },
    "id": "wJ2eYK8m9j2L",
    "outputId": "df180e71-50b4-4274-d85a-921bba4e6958"
   },
   "outputs": [
    {
     "name": "stdout",
     "output_type": "stream",
     "text": [
      "[[ 5  8  4  1  0  0  2  2  0  0  1  0  4  0  0  1  0]\n",
      " [ 4  3  0  1  0  0  0  2  0  1  0  0  1  0  1  0  0]\n",
      " [ 4  3  4  0  0  2  0  0  0  1  0  0  2  0  0  0  0]\n",
      " [ 6  3  0  3  0  3  0  0  0  1  0  0  1  0  0  1  0]\n",
      " [ 3  4  0  0  1  3  0  0  0  0  1  0  0  0  1  0  0]\n",
      " [ 3  6  3  0  0  1  0  0  0  1  2  0  1  0  2  2  0]\n",
      " [ 2  2  1  0  0  1  0  0  0  0  1  1  2  0  1  6  1]\n",
      " [ 3  0  5  0  0  0  1  0  0  0  0  0  2  1  1  2  1]\n",
      " [ 4  2  5  1  0  2  2  0  0  0  1  0  1  0  0  3  0]\n",
      " [ 1  4  1  2  1  0  2  0  0  2  3  0  1  0  0  2  2]\n",
      " [ 5  4  6  0  0  3  0  0  0  0  2  0  1  0  2  3  0]\n",
      " [ 2  3  3  0  1  2  0  0  0  1  0  0  4  0  1  3  2]\n",
      " [ 1  0  0  1  0  0  2  0  0  0  3  0  4  0  2  2  1]\n",
      " [ 0  1  3  1  0  2  0  0  0  0  0  1  5  0  0  8  0]\n",
      " [ 0  0  1  2  0  1  0  0  0  1  1  0  3  0  2  6  3]\n",
      " [ 1  0  0  0  0  1  0  0  0  0  3  0  6  0  5 11  1]\n",
      " [ 0  0  2  0  1  3  0  0  0  0  0  0  2  0  0 13  1]]\n",
      "Model Accuracy: 11.47%\n"
     ]
    }
   ],
   "source": [
    "cm = confusion_matrix(p, predict)\n",
    "print(cm)\n",
    "np.savetxt(f\"csv/cm-C{len(c)}-N400-{datetime.now()}.csv\", cm, delimiter=\",\")\n",
    "score = round(accuracy_score(p, predict)*100,2)\n",
    "print(f\"Model Accuracy: {score}%\")"
   ]
  },
  {
   "cell_type": "code",
   "execution_count": null,
   "metadata": {
    "id": "vIWi_j_xzM0Y"
   },
   "outputs": [],
   "source": []
  }
 ],
 "metadata": {
  "accelerator": "GPU",
  "colab": {
   "collapsed_sections": [],
   "provenance": []
  },
  "kernelspec": {
   "display_name": "Python 3",
   "language": "python",
   "name": "python3"
  },
  "language_info": {
   "codemirror_mode": {
    "name": "ipython",
    "version": 3
   },
   "file_extension": ".py",
   "mimetype": "text/x-python",
   "name": "python",
   "nbconvert_exporter": "python",
   "pygments_lexer": "ipython3",
   "version": "3.8.6"
  }
 },
 "nbformat": 4,
 "nbformat_minor": 1
}
