{
 "cells": [
  {
   "cell_type": "code",
   "execution_count": 19,
   "metadata": {
    "id": "V7brOxXv3ssW"
   },
   "outputs": [],
   "source": [
    "import os, shutil, pathlib\n",
    "import torchvision\n",
    "import torch\n",
    "import pandas as pd\n",
    "from datetime import datetime\n",
    "\n",
    "from torch import nn\n",
    "from torchvision import models\n",
    "from torch.utils.data import DataLoader, Dataset\n",
    "\n",
    "import numpy as np\n",
    "import time\n",
    "\n",
    "import matplotlib.pyplot as plt\n",
    "import sklearn\n",
    "from sklearn.datasets import make_classification\n",
    "from sklearn.metrics import confusion_matrix, ConfusionMatrixDisplay\n",
    "from sklearn.metrics import accuracy_score\n",
    "from sklearn.model_selection import train_test_split\n",
    "from sklearn.svm import SVC\n",
    "\n",
    "from PIL import Image\n"
   ]
  },
  {
   "cell_type": "code",
   "execution_count": 2,
   "metadata": {
    "id": "ZSWQobdlzM0M"
   },
   "outputs": [],
   "source": [
    "casez = [\"Ext\",\"Loc\"]\n"
   ]
  },
  {
   "cell_type": "code",
   "execution_count": 3,
   "metadata": {
    "id": "YyTozVmkzM0N"
   },
   "outputs": [],
   "source": [
    "c = [\"Ext\",\"Loc\"]"
   ]
  },
  {
   "cell_type": "code",
   "execution_count": 4,
   "metadata": {
    "id": "6pf4PFyrzM0O"
   },
   "outputs": [],
   "source": [
    "path = pathlib.Path(\"/home/physics/phubdf/Test_Train_Data\")\n",
    "os.chdir(path)\n",
    "shutil.rmtree(f\"{path}/workspace\")\n",
    "os.mkdir(f\"{path}/workspace\")\n",
    "\n",
    "for i in range(0,len(casez)):\n",
    "    src = os.listdir(f\"{path}/{casez[i]}\")\n",
    "    for file in src:\n",
    "        if file.endswith(\".raw\"):\n",
    "            file_name = os.path.join(f\"{path}/{casez[i]}\", file)\n",
    "            if os.path.isfile(file_name):\n",
    "                shutil.copy(file_name, f\"{path}/workspace\")"
   ]
  },
  {
   "cell_type": "code",
   "execution_count": 5,
   "metadata": {
    "id": "z8mOVao_zM0P"
   },
   "outputs": [],
   "source": [
    "shutil.rmtree(f\"{path}/labels\")\n",
    "os.mkdir(f\"{path}/labels\")\n",
    "for i in range(0,len(casez)):\n",
    "    csv_input = pd.read_csv(f'{path}/{casez[i]}/labels.csv')\n",
    "    csv_input.replace(to_replace=0,value=i,inplace = True)\n",
    "    csv_input.to_csv(f'{path}/labels/labels{c[i]}.csv', index=False)\n",
    "\n",
    "\n",
    "src = os.listdir(f'{path}/labels')\n",
    "a = pd.concat([pd.read_csv(f'{path}/labels/{file}') for file in src ], ignore_index=True)\n",
    "a.to_csv(f'{path}/labels/labels.csv', index=False)\n"
   ]
  },
  {
   "cell_type": "code",
   "execution_count": 6,
   "metadata": {
    "id": "yuneJkPG4HP0"
   },
   "outputs": [],
   "source": [
    "class CustomImageDataset(Dataset):\n",
    "    def __init__(self, annotations_file, img_dir, transform=None, target_transform=None):\n",
    "        self.img_labels = pd.read_csv(annotations_file)\n",
    "        self.img_dir = img_dir\n",
    "        self.transform = transform\n",
    "        self.target_transform = target_transform\n",
    "\n",
    "    def __len__(self):\n",
    "        return len(self.img_labels)\n",
    "\n",
    "    def __getitem__(self, idx):\n",
    "        img_path = os.path.join(self.img_dir, self.img_labels.iloc[idx, 0])\n",
    "        image = np.loadtxt(f\"{img_path}\")\n",
    "        image = image.reshape(1,100,100)\n",
    "        label = self.img_labels.iloc[idx, 1]\n",
    "        if self.transform:\n",
    "            image = self.transform(image)\n",
    "        if self.target_transform:\n",
    "            label = self.target_transform(label)\n",
    "        return image, label"
   ]
  },
  {
   "cell_type": "code",
   "execution_count": 7,
   "metadata": {
    "colab": {
     "base_uri": "https://localhost:8080/"
    },
    "id": "TjNlVkzY4Q7e",
    "outputId": "bcaf14ee-7a22-4a2b-f071-302839fb1836"
   },
   "outputs": [
    {
     "name": "stdout",
     "output_type": "stream",
     "text": [
      "2000\n"
     ]
    }
   ],
   "source": [
    "batch_size = 32\n",
    "\n",
    "data = CustomImageDataset(annotations_file=f\"{path}/labels/labels.csv\",img_dir=f\"{path}/workspace\")\n",
    "print(len(data))\n",
    "#Create Validation set\n",
    "from torch.utils.data import random_split\n",
    "training_data, validation_data, test_data = random_split(data,[1600,300,100])\n",
    "\n",
    "# Create data loaders.\n",
    "\n",
    "train_dataloader = DataLoader(training_data, batch_size=batch_size)\n",
    "validation_dataloader = DataLoader(validation_data, batch_size=batch_size)\n",
    "test_dataloader = DataLoader(test_data, batch_size=batch_size)"
   ]
  },
  {
   "cell_type": "code",
   "execution_count": 8,
   "metadata": {
    "colab": {
     "base_uri": "https://localhost:8080/"
    },
    "id": "pXf6vf0gGqLN",
    "outputId": "e9f0f098-9452-4132-ad1b-46a23a3d6943"
   },
   "outputs": [
    {
     "name": "stdout",
     "output_type": "stream",
     "text": [
      "Feature batch shape: torch.Size([32, 1, 100, 100])\n",
      "tensor([[[[4.8375e-03, 5.4592e-03, 4.9253e-03,  ..., 4.6378e-03,\n",
      "           4.8158e-03, 4.6185e-03],\n",
      "          [5.3517e-03, 5.1188e-03, 5.2807e-03,  ..., 5.1043e-03,\n",
      "           5.3607e-03, 5.0830e-03],\n",
      "          [5.1891e-03, 5.3081e-03, 4.6058e-03,  ..., 5.3367e-03,\n",
      "           5.3026e-03, 4.9194e-03],\n",
      "          ...,\n",
      "          [5.2388e-03, 5.4955e-03, 4.5245e-03,  ..., 4.9046e-03,\n",
      "           4.9402e-03, 5.2020e-03],\n",
      "          [5.2608e-03, 4.7773e-03, 4.5089e-03,  ..., 4.9777e-03,\n",
      "           5.4147e-03, 5.0160e-03],\n",
      "          [4.5041e-03, 4.8294e-03, 5.1805e-03,  ..., 5.3094e-03,\n",
      "           4.8045e-03, 5.4651e-03]]],\n",
      "\n",
      "\n",
      "        [[[1.0000e-05, 1.0000e-05, 1.0000e-05,  ..., 1.0000e-05,\n",
      "           1.0000e-05, 1.0000e-05],\n",
      "          [1.0000e-05, 1.0000e-05, 1.0000e-05,  ..., 1.0000e-05,\n",
      "           1.0000e-05, 1.0000e-05],\n",
      "          [1.0000e-05, 1.0000e-05, 1.0000e-05,  ..., 1.0000e-05,\n",
      "           1.0000e-05, 1.0000e-05],\n",
      "          ...,\n",
      "          [1.0000e-05, 1.0000e-05, 1.0000e-05,  ..., 1.0000e-05,\n",
      "           1.0000e-05, 1.0000e-05],\n",
      "          [1.0000e-05, 1.0000e-05, 1.0000e-05,  ..., 1.0000e-05,\n",
      "           1.0000e-05, 1.0000e-05],\n",
      "          [1.0000e-05, 1.0000e-05, 1.0000e-05,  ..., 1.0000e-05,\n",
      "           1.0000e-05, 1.0000e-05]]],\n",
      "\n",
      "\n",
      "        [[[5.4696e-03, 4.5450e-03, 4.6076e-03,  ..., 4.6042e-03,\n",
      "           4.6861e-03, 5.4258e-03],\n",
      "          [5.1971e-03, 4.9909e-03, 5.3398e-03,  ..., 4.8319e-03,\n",
      "           4.9313e-03, 5.2127e-03],\n",
      "          [5.0622e-03, 4.8586e-03, 4.5243e-03,  ..., 5.0910e-03,\n",
      "           5.2587e-03, 5.2065e-03],\n",
      "          ...,\n",
      "          [4.9906e-03, 5.3832e-03, 5.1844e-03,  ..., 4.6303e-03,\n",
      "           4.6460e-03, 4.7482e-03],\n",
      "          [5.3682e-03, 5.0362e-03, 5.2187e-03,  ..., 5.4417e-03,\n",
      "           5.1164e-03, 5.3780e-03],\n",
      "          [5.4937e-03, 5.4987e-03, 4.5771e-03,  ..., 4.5533e-03,\n",
      "           5.0609e-03, 5.1639e-03]]],\n",
      "\n",
      "\n",
      "        ...,\n",
      "\n",
      "\n",
      "        [[[1.0000e-05, 1.0000e-05, 1.0000e-05,  ..., 1.0000e-05,\n",
      "           1.0000e-05, 1.0000e-05],\n",
      "          [1.0000e-05, 1.0000e-05, 1.0000e-05,  ..., 1.0000e-05,\n",
      "           1.0000e-05, 1.0000e-05],\n",
      "          [1.0000e-05, 1.0000e-05, 1.0000e-05,  ..., 1.0000e-05,\n",
      "           1.0000e-05, 1.0000e-05],\n",
      "          ...,\n",
      "          [1.0000e-05, 1.0000e-05, 1.0000e-05,  ..., 1.0000e-05,\n",
      "           1.0000e-05, 1.0000e-05],\n",
      "          [1.0000e-05, 1.0000e-05, 1.0000e-05,  ..., 1.0000e-05,\n",
      "           1.0000e-05, 1.0000e-05],\n",
      "          [1.0000e-05, 1.0000e-05, 1.0000e-05,  ..., 1.0000e-05,\n",
      "           1.0000e-05, 1.0000e-05]]],\n",
      "\n",
      "\n",
      "        [[[4.6422e-03, 5.0574e-03, 4.8000e-03,  ..., 5.4688e-03,\n",
      "           4.7505e-03, 5.2104e-03],\n",
      "          [4.6403e-03, 5.1123e-03, 4.9624e-03,  ..., 4.5061e-03,\n",
      "           4.5823e-03, 4.6712e-03],\n",
      "          [4.8567e-03, 4.5176e-03, 5.3822e-03,  ..., 5.1922e-03,\n",
      "           5.4013e-03, 4.7048e-03],\n",
      "          ...,\n",
      "          [5.2465e-03, 5.2450e-03, 4.6211e-03,  ..., 4.8477e-03,\n",
      "           4.6330e-03, 4.8248e-03],\n",
      "          [4.6415e-03, 4.5804e-03, 5.3787e-03,  ..., 5.1169e-03,\n",
      "           4.5348e-03, 4.9787e-03],\n",
      "          [4.5539e-03, 4.6076e-03, 4.8063e-03,  ..., 4.9154e-03,\n",
      "           5.2676e-03, 4.6715e-03]]],\n",
      "\n",
      "\n",
      "        [[[1.0000e-05, 1.0000e-05, 1.0000e-05,  ..., 1.0000e-05,\n",
      "           1.0000e-05, 1.0000e-05],\n",
      "          [1.0000e-05, 1.0000e-05, 1.0000e-05,  ..., 1.0000e-05,\n",
      "           1.0000e-05, 1.0000e-05],\n",
      "          [1.0000e-05, 1.0000e-05, 1.0000e-05,  ..., 1.0000e-05,\n",
      "           1.0000e-05, 1.0000e-05],\n",
      "          ...,\n",
      "          [1.0000e-05, 1.0000e-05, 1.0000e-05,  ..., 1.0000e-05,\n",
      "           1.0000e-05, 1.0000e-05],\n",
      "          [1.0000e-05, 1.0000e-05, 1.0000e-05,  ..., 1.0000e-05,\n",
      "           1.0000e-05, 1.0000e-05],\n",
      "          [1.0000e-05, 1.0000e-05, 1.0000e-05,  ..., 1.0000e-05,\n",
      "           1.0000e-05, 1.0000e-05]]]], dtype=torch.float64)\n",
      "Labels batch shape: torch.Size([32])\n",
      "Label: tensor([0, 1, 0, 0, 1, 1, 0, 1, 1, 0, 1, 0, 0, 0, 1, 1, 0, 1, 0, 1, 1, 0, 1, 1,\n",
      "        0, 1, 0, 0, 1, 1, 0, 1])\n"
     ]
    }
   ],
   "source": [
    "train_features, train_labels = next(iter(train_dataloader))\n",
    "print(f\"Feature batch shape: {train_features.size()}\")\n",
    "print(train_features)\n",
    "print(f\"Labels batch shape: {train_labels.size()}\")\n",
    "img = train_features[0].squeeze()\n",
    "label = train_labels\n",
    "print(f\"Label: {label}\")"
   ]
  },
  {
   "cell_type": "code",
   "execution_count": 29,
   "metadata": {},
   "outputs": [
    {
     "name": "stdout",
     "output_type": "stream",
     "text": [
      "Using cpu device\n",
      "ResNet(\n",
      "  (conv1): Conv2d(1, 64, kernel_size=(5, 5), stride=(1, 1), bias=False)\n",
      "  (bn1): BatchNorm2d(64, eps=1e-05, momentum=0.1, affine=True, track_running_stats=True)\n",
      "  (relu): ReLU(inplace=True)\n",
      "  (maxpool): MaxPool2d(kernel_size=3, stride=2, padding=1, dilation=1, ceil_mode=False)\n",
      "  (layer1): Sequential(\n",
      "    (0): BasicBlock(\n",
      "      (conv1): Conv2d(64, 64, kernel_size=(3, 3), stride=(1, 1), padding=(1, 1), bias=False)\n",
      "      (bn1): BatchNorm2d(64, eps=1e-05, momentum=0.1, affine=True, track_running_stats=True)\n",
      "      (relu): ReLU(inplace=True)\n",
      "      (conv2): Conv2d(64, 64, kernel_size=(3, 3), stride=(1, 1), padding=(1, 1), bias=False)\n",
      "      (bn2): BatchNorm2d(64, eps=1e-05, momentum=0.1, affine=True, track_running_stats=True)\n",
      "    )\n",
      "    (1): BasicBlock(\n",
      "      (conv1): Conv2d(64, 64, kernel_size=(3, 3), stride=(1, 1), padding=(1, 1), bias=False)\n",
      "      (bn1): BatchNorm2d(64, eps=1e-05, momentum=0.1, affine=True, track_running_stats=True)\n",
      "      (relu): ReLU(inplace=True)\n",
      "      (conv2): Conv2d(64, 64, kernel_size=(3, 3), stride=(1, 1), padding=(1, 1), bias=False)\n",
      "      (bn2): BatchNorm2d(64, eps=1e-05, momentum=0.1, affine=True, track_running_stats=True)\n",
      "    )\n",
      "  )\n",
      "  (layer2): Sequential(\n",
      "    (0): BasicBlock(\n",
      "      (conv1): Conv2d(64, 128, kernel_size=(3, 3), stride=(2, 2), padding=(1, 1), bias=False)\n",
      "      (bn1): BatchNorm2d(128, eps=1e-05, momentum=0.1, affine=True, track_running_stats=True)\n",
      "      (relu): ReLU(inplace=True)\n",
      "      (conv2): Conv2d(128, 128, kernel_size=(3, 3), stride=(1, 1), padding=(1, 1), bias=False)\n",
      "      (bn2): BatchNorm2d(128, eps=1e-05, momentum=0.1, affine=True, track_running_stats=True)\n",
      "      (downsample): Sequential(\n",
      "        (0): Conv2d(64, 128, kernel_size=(1, 1), stride=(2, 2), bias=False)\n",
      "        (1): BatchNorm2d(128, eps=1e-05, momentum=0.1, affine=True, track_running_stats=True)\n",
      "      )\n",
      "    )\n",
      "    (1): BasicBlock(\n",
      "      (conv1): Conv2d(128, 128, kernel_size=(3, 3), stride=(1, 1), padding=(1, 1), bias=False)\n",
      "      (bn1): BatchNorm2d(128, eps=1e-05, momentum=0.1, affine=True, track_running_stats=True)\n",
      "      (relu): ReLU(inplace=True)\n",
      "      (conv2): Conv2d(128, 128, kernel_size=(3, 3), stride=(1, 1), padding=(1, 1), bias=False)\n",
      "      (bn2): BatchNorm2d(128, eps=1e-05, momentum=0.1, affine=True, track_running_stats=True)\n",
      "    )\n",
      "  )\n",
      "  (layer3): Sequential(\n",
      "    (0): BasicBlock(\n",
      "      (conv1): Conv2d(128, 256, kernel_size=(3, 3), stride=(2, 2), padding=(1, 1), bias=False)\n",
      "      (bn1): BatchNorm2d(256, eps=1e-05, momentum=0.1, affine=True, track_running_stats=True)\n",
      "      (relu): ReLU(inplace=True)\n",
      "      (conv2): Conv2d(256, 256, kernel_size=(3, 3), stride=(1, 1), padding=(1, 1), bias=False)\n",
      "      (bn2): BatchNorm2d(256, eps=1e-05, momentum=0.1, affine=True, track_running_stats=True)\n",
      "      (downsample): Sequential(\n",
      "        (0): Conv2d(128, 256, kernel_size=(1, 1), stride=(2, 2), bias=False)\n",
      "        (1): BatchNorm2d(256, eps=1e-05, momentum=0.1, affine=True, track_running_stats=True)\n",
      "      )\n",
      "    )\n",
      "    (1): BasicBlock(\n",
      "      (conv1): Conv2d(256, 256, kernel_size=(3, 3), stride=(1, 1), padding=(1, 1), bias=False)\n",
      "      (bn1): BatchNorm2d(256, eps=1e-05, momentum=0.1, affine=True, track_running_stats=True)\n",
      "      (relu): ReLU(inplace=True)\n",
      "      (conv2): Conv2d(256, 256, kernel_size=(3, 3), stride=(1, 1), padding=(1, 1), bias=False)\n",
      "      (bn2): BatchNorm2d(256, eps=1e-05, momentum=0.1, affine=True, track_running_stats=True)\n",
      "    )\n",
      "  )\n",
      "  (layer4): Sequential(\n",
      "    (0): BasicBlock(\n",
      "      (conv1): Conv2d(256, 512, kernel_size=(3, 3), stride=(2, 2), padding=(1, 1), bias=False)\n",
      "      (bn1): BatchNorm2d(512, eps=1e-05, momentum=0.1, affine=True, track_running_stats=True)\n",
      "      (relu): ReLU(inplace=True)\n",
      "      (conv2): Conv2d(512, 512, kernel_size=(3, 3), stride=(1, 1), padding=(1, 1), bias=False)\n",
      "      (bn2): BatchNorm2d(512, eps=1e-05, momentum=0.1, affine=True, track_running_stats=True)\n",
      "      (downsample): Sequential(\n",
      "        (0): Conv2d(256, 512, kernel_size=(1, 1), stride=(2, 2), bias=False)\n",
      "        (1): BatchNorm2d(512, eps=1e-05, momentum=0.1, affine=True, track_running_stats=True)\n",
      "      )\n",
      "    )\n",
      "    (1): BasicBlock(\n",
      "      (conv1): Conv2d(512, 512, kernel_size=(3, 3), stride=(1, 1), padding=(1, 1), bias=False)\n",
      "      (bn1): BatchNorm2d(512, eps=1e-05, momentum=0.1, affine=True, track_running_stats=True)\n",
      "      (relu): ReLU(inplace=True)\n",
      "      (conv2): Conv2d(512, 512, kernel_size=(3, 3), stride=(1, 1), padding=(1, 1), bias=False)\n",
      "      (bn2): BatchNorm2d(512, eps=1e-05, momentum=0.1, affine=True, track_running_stats=True)\n",
      "    )\n",
      "  )\n",
      "  (avgpool): AdaptiveAvgPool2d(output_size=(1, 1))\n",
      "  (fc): Linear(in_features=512, out_features=2, bias=True)\n",
      ")\n"
     ]
    }
   ],
   "source": [
    "# Get cpu or gpu device for training.\n",
    "device = \"cuda\" if torch.cuda.is_available() else \"cpu\"\n",
    "print(f\"Using {device} device\")\n",
    "\n",
    "model = models.resnet18()\n",
    "model.conv1 = nn.Conv2d(in_channels=1, out_channels=64, kernel_size=5, stride=1, padding=0, bias=False)\n",
    "model.fc = nn.Linear(in_features=512,out_features=2,bias=True)\n",
    "print(model)\n"
   ]
  },
  {
   "cell_type": "code",
   "execution_count": 30,
   "metadata": {
    "id": "eJFVTw3B4hhG"
   },
   "outputs": [],
   "source": [
    "def train(dataloader, model, loss_fn, optimizer):\n",
    "    size = len(dataloader.dataset)\n",
    "    model.train()\n",
    "    for batch, (X, y) in enumerate(dataloader):\n",
    "        X, y = X.to(device), y.to(device)\n",
    "\n",
    "        # Compute prediction error\n",
    "        pred = model(X)\n",
    "        loss = loss_fn(pred, y)\n",
    "\n",
    "        # Backpropagation\n",
    "        optimizer.zero_grad()\n",
    "        loss.backward()\n",
    "        optimizer.step()\n",
    "\n",
    "        if batch % 100 == 0:\n",
    "            loss, current = loss.item(), batch * len(X)\n",
    "            print(f\"loss: {loss:>7f}  [{current:>5d}/{size:>5d}]\")"
   ]
  },
  {
   "cell_type": "code",
   "execution_count": 31,
   "metadata": {
    "id": "NfqdF69u4pj0"
   },
   "outputs": [],
   "source": [
    "loss_fn = nn.CrossEntropyLoss()\n",
    "optimizer = torch.optim.SGD(model.parameters(), lr=1e-3)"
   ]
  },
  {
   "cell_type": "code",
   "execution_count": 32,
   "metadata": {
    "colab": {
     "base_uri": "https://localhost:8080/"
    },
    "id": "WvWsj3Qm4u9P",
    "outputId": "eddb073d-b5af-4752-8370-11df06fa21c5"
   },
   "outputs": [
    {
     "name": "stdout",
     "output_type": "stream",
     "text": [
      "Epoch 1 \t Runtime: 197.94s \t Training Loss: 0.3738549408316612 \t Validation Loss: 0.8798331499099732\n",
      "Validation Loss Decreased(inf--->8.798331) \t Saving The Model\n",
      "Epoch 2 \t Runtime: 186.28s \t Training Loss: 0.18044482424855232 \t Validation Loss: 0.30052528381347654\n",
      "Validation Loss Decreased(8.798331--->3.005253) \t Saving The Model\n",
      "Epoch 3 \t Runtime: 233.83s \t Training Loss: 0.1289166444540024 \t Validation Loss: 0.15269603133201598\n",
      "Validation Loss Decreased(3.005253--->1.526960) \t Saving The Model\n",
      "Epoch 4 \t Runtime: 195.72s \t Training Loss: 0.09958625867962838 \t Validation Loss: 0.11716851890087128\n",
      "Validation Loss Decreased(1.526960--->1.171685) \t Saving The Model\n",
      "Epoch 5 \t Runtime: 185.24s \t Training Loss: 0.07946996256709099 \t Validation Loss: 0.09179451763629913\n",
      "Validation Loss Decreased(1.171685--->0.917945) \t Saving The Model\n",
      "Epoch 6 \t Runtime: 185.0s \t Training Loss: 0.06462785303592682 \t Validation Loss: 0.07285053580999375\n",
      "Validation Loss Decreased(0.917945--->0.728505) \t Saving The Model\n",
      "Epoch 7 \t Runtime: 185.32s \t Training Loss: 0.053319128975272176 \t Validation Loss: 0.058587062358856204\n",
      "Validation Loss Decreased(0.728505--->0.585871) \t Saving The Model\n",
      "Epoch 8 \t Runtime: 187.57s \t Training Loss: 0.044568694420158865 \t Validation Loss: 0.04781729131937027\n",
      "Validation Loss Decreased(0.585871--->0.478173) \t Saving The Model\n",
      "Epoch 9 \t Runtime: 189.36s \t Training Loss: 0.03773167490959167 \t Validation Loss: 0.039619289338588715\n",
      "Validation Loss Decreased(0.478173--->0.396193) \t Saving The Model\n",
      "Epoch 10 \t Runtime: 186.49s \t Training Loss: 0.032334129046648744 \t Validation Loss: 0.03330526873469353\n",
      "Validation Loss Decreased(0.396193--->0.333053) \t Saving The Model\n",
      "Total runtime: 1940.25s\n"
     ]
    }
   ],
   "source": [
    "epochs = 10\n",
    "min_valid_loss = np.inf\n",
    "start = time.time()\n",
    "tl = np.array([])\n",
    "vl = np.array([])\n",
    "\n",
    "for e in range(epochs):\n",
    "    st = time.time()\n",
    "    train_loss = 0.0\n",
    "    model.train()     # Optional when not using Model Specific layer\n",
    "    for data, labels in train_dataloader:\n",
    "        data = data.float()\n",
    "        if torch.cuda.is_available():\n",
    "            data, labels = data.cuda(), labels.cuda()\n",
    "        \n",
    "        optimizer.zero_grad()\n",
    "        target = model(data)\n",
    "        loss = loss_fn(target,labels)\n",
    "        loss.backward()\n",
    "        optimizer.step()\n",
    "        train_loss += loss.item()\n",
    "    \n",
    "    valid_loss = 0.0\n",
    "    model.eval()     # Optional when not using Model Specific layer\n",
    "    for data, labels in validation_dataloader:\n",
    "        data = data.float()\n",
    "        if torch.cuda.is_available():\n",
    "            data, labels = data.cuda(), labels.cuda()\n",
    "        \n",
    "        target = model(data)\n",
    "        loss = loss_fn(target,labels)\n",
    "        valid_loss = loss.item() * data.size(0)\n",
    "    \n",
    "    et = time.time()\n",
    "    rt = et-st\n",
    "\n",
    "    print(f'Epoch {e+1} \\t Runtime: {round(rt,2)}s \\t Training Loss: {train_loss / len(train_dataloader)} \\t Validation Loss: {valid_loss / len(validation_dataloader)}')\n",
    "    if min_valid_loss > valid_loss:\n",
    "        print(f'Validation Loss Decreased({min_valid_loss:.6f}--->{valid_loss:.6f}) \\t Saving The Model')\n",
    "        min_valid_loss = valid_loss\n",
    "        # Saving State Dict\n",
    "        torch.save(model.state_dict(), 'saved_model.pth')\n",
    "    else:\n",
    "      print(\" \")\n",
    "    \n",
    "    tl = np.append(tl, train_loss / len(train_dataloader))\n",
    "    vl = np.append(vl,valid_loss / len(validation_dataloader))\n",
    "\n",
    "end = time.time()\n",
    "total = end-start\n",
    "print(f\"Total runtime: {round(total,2)}s\")"
   ]
  },
  {
   "cell_type": "code",
   "execution_count": 33,
   "metadata": {
    "colab": {
     "base_uri": "https://localhost:8080/",
     "height": 295
    },
    "id": "rc87XTcZpCn7",
    "outputId": "c6e697ec-910b-4113-fc5d-e48b0833c2db"
   },
   "outputs": [
    {
     "data": {
      "image/png": "[encoded data removed]",
      "text/plain": [
       "<Figure size 432x288 with 1 Axes>"
      ]
     },
     "metadata": {
      "needs_background": "light"
     },
     "output_type": "display_data"
    }
   ],
   "source": [
    "x = np.arange(0,epochs,1)\n",
    "plt.plot(x+1, tl, \"b+\", label=\"Training loss\")\n",
    "np.savetxt(f\"tl-E0.1-L0.00001-{datetime.now()}.csv\", tl, delimiter=\",\")\n",
    "plt.plot(x+1, vl, \"ro\", label=\"Validation loss\")\n",
    "np.savetxt(f\"vl-E0.1-L0.00001-{datetime.now()}.csv\", vl, delimiter=\",\")\n",
    "plt.title(\"Training and validation loss\")\n",
    "plt.xlabel(\"epochs\")\n",
    "plt.legend()\n",
    "plt.show()"
   ]
  },
  {
   "cell_type": "code",
   "execution_count": 34,
   "metadata": {
    "id": "XBb38sTJ8mdZ"
   },
   "outputs": [],
   "source": [
    "\n",
    "predict = []\n",
    "p = []\n",
    "device = \"cuda\" if torch.cuda.is_available() else \"cpu\"\n",
    "model.eval()\n",
    "for i in range(0,20*len(c)):\n",
    "    x, y = test_data[i][0], test_data[i][1]\n",
    "    x = x.reshape(1,1,100,100)\n",
    "    x = torch.from_numpy(x)\n",
    "    x = x.float()\n",
    "    with torch.no_grad():\n",
    "        pred = model(x.cuda()) if torch.cuda.is_available() else model(x)\n",
    "        predicted, actual = pred[0].argmax(0), y \n",
    "        predicted = torch.Tensor.cpu(predicted)\n",
    "        predict = np.append(predict, predicted)\n",
    "        p = np.append(p, actual)\n"
   ]
  },
  {
   "cell_type": "code",
   "execution_count": 35,
   "metadata": {
    "colab": {
     "base_uri": "https://localhost:8080/",
     "height": 597
    },
    "id": "wJ2eYK8m9j2L",
    "outputId": "df180e71-50b4-4274-d85a-921bba4e6958"
   },
   "outputs": [
    {
     "name": "stdout",
     "output_type": "stream",
     "text": [
      "[[23  0]\n",
      " [ 0 17]]\n",
      "Model Accuracy: 100.0%\n"
     ]
    }
   ],
   "source": [
    "cm = confusion_matrix(p, predict)\n",
    "print(cm)\n",
    "np.savetxt(f\"cm-E0.1-L0.00001-{datetime.now()}.csv\", cm, delimiter=\",\")\n",
    "score = round(accuracy_score(p, predict)*100,2)\n",
    "print(f\"Model Accuracy: {score}%\")"
   ]
  },
  {
   "cell_type": "code",
   "execution_count": null,
   "metadata": {
    "id": "vIWi_j_xzM0Y"
   },
   "outputs": [],
   "source": []
  }
 ],
 "metadata": {
  "accelerator": "GPU",
  "colab": {
   "collapsed_sections": [],
   "provenance": []
  },
  "kernelspec": {
   "display_name": "Python 3",
   "language": "python",
   "name": "python3"
  },
  "language_info": {
   "codemirror_mode": {
    "name": "ipython",
    "version": 3
   },
   "file_extension": ".py",
   "mimetype": "text/x-python",
   "name": "python",
   "nbconvert_exporter": "python",
   "pygments_lexer": "ipython3",
   "version": "3.8.6"
  }
 },
 "nbformat": 4,
 "nbformat_minor": 1
}
