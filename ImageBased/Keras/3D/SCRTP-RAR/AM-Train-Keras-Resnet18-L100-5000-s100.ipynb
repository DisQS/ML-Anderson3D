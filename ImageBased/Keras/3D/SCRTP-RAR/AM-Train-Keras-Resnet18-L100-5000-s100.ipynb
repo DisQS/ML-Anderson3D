{
 "cells": [
  {
   "cell_type": "markdown",
   "metadata": {},
   "source": [
    "# Anderson model of localization"
   ]
  },
  {
   "cell_type": "markdown",
   "metadata": {},
   "source": [
    "## parameter choices"
   ]
  },
  {
   "cell_type": "code",
   "execution_count": 1,
   "metadata": {},
   "outputs": [
    {
     "name": "stdout",
     "output_type": "stream",
     "text": [
      "L20-5000-s100 \n",
      " /storage/disqs/ML-Anderson3D/Images/L20-5000-s100\n",
      "Keras-Resnet50-111111-e30 \n",
      " Model_Keras-Resnet50-111111-e30_L20-5000-s100.pth \n",
      " History_Keras-Resnet50-111111-e30_L20-5000-s100.pkl\n",
      "./L20-5000-s100/ ./L20-5000-s100/Model_Keras-Resnet50-111111-e30_L20-5000-s100.pth ./L20-5000-s100/History_Keras-Resnet50-111111-e30_L20-5000-s100.pkl\n"
     ]
    }
   ],
   "source": [
    "myseed= 111111\n",
    "width= 20\n",
    "nimages= 5000\n",
    "img_sizeX= 100\n",
    "img_sizeY= img_sizeX\n",
    "\n",
    "validation_split= 0.1\n",
    "batch_size= 64\n",
    "myepochs= num_epochs =30\n",
    "mylr= 0.01\n",
    "mywd= 1e-6\n",
    "\n",
    "dataname='L'+str(width)+'-'+str(nimages)+'-s'+str(img_sizeX)\n",
    "\n",
    "datapath = '/storage/disqs/'+'ML-Anderson3D/Images/'+dataname # SC-RTP\n",
    "#datapath = '/mnt/DataDrive/'+'ML-Data/Anderson/Images/'+dataname # Ubuntu home RAR\n",
    "    \n",
    "print(dataname,\"\\n\",datapath)\n",
    "\n",
    "method='Keras-Resnet50-'+str(myseed)+'-e'+str(num_epochs) #+'-bs'+str(batch_size)\n",
    "modelname = 'Model_'+method+'_'+dataname+'.pth'\n",
    "historyname = 'History_'+method+'_'+dataname+'.pkl'\n",
    "print(method,\"\\n\",modelname,\"\\n\",historyname)\n",
    "\n",
    "savepath = './'+dataname+'/'\n",
    "import os\n",
    "try:\n",
    "    os.mkdir(savepath)\n",
    "except FileExistsError:\n",
    "    pass\n",
    "\n",
    "modelpath = savepath+modelname\n",
    "historypath = savepath+historyname\n",
    "print(savepath,modelpath,historypath)"
   ]
  },
  {
   "cell_type": "markdown",
   "metadata": {},
   "source": [
    "## initializations"
   ]
  },
  {
   "cell_type": "code",
   "execution_count": 2,
   "metadata": {},
   "outputs": [],
   "source": [
    "#standard notebook settings\n",
    "%reload_ext autoreload\n",
    "%autoreload 2\n",
    "%matplotlib inline"
   ]
  },
  {
   "cell_type": "code",
   "execution_count": 3,
   "metadata": {},
   "outputs": [],
   "source": [
    "#standard libraries\n",
    "import numpy as np\n",
    "import sys\n",
    "np.set_printoptions(threshold=sys.maxsize)\n",
    "\n",
    "import random as rn\n",
    "import os\n",
    "import matplotlib.pyplot as plt\n",
    "sys.path.insert(0,'../../../../PyCode/')\n",
    "#np.random.seed(1337) # for reproducibility\n",
    "#np.random.seed(2000) "
   ]
  },
  {
   "cell_type": "code",
   "execution_count": 4,
   "metadata": {},
   "outputs": [
    {
     "name": "stderr",
     "output_type": "stream",
     "text": [
      "Using TensorFlow backend.\n"
     ]
    },
    {
     "name": "stdout",
     "output_type": "stream",
     "text": [
      "tensorflow:  2.1.0 , keras:  2.3.1\n",
      "sklearn:  0.21.3\n"
     ]
    }
   ],
   "source": [
    "#machine learning libraries\n",
    "import tensorflow as tf \n",
    "import keras\n",
    "print(\"tensorflow: \",tf.__version__, \", keras: \", keras.__version__)\n",
    "\n",
    "import sklearn\n",
    "from sklearn.metrics import confusion_matrix\n",
    "from sklearn.model_selection import train_test_split\n",
    "print(\"sklearn: \", sklearn.__version__)"
   ]
  },
  {
   "cell_type": "code",
   "execution_count": 5,
   "metadata": {},
   "outputs": [],
   "source": [
    "#special subroutines\n",
    "from keras.models import Sequential\n",
    "from keras.layers import Dense, Conv2D\n",
    "from keras.layers import Conv1D, MaxPooling2D\n",
    "from keras.layers import AveragePooling2D, Flatten\n",
    "from keras.layers import Dropout\n",
    "from keras import optimizers\n",
    "from keras.models import load_model\n",
    "\n",
    "# from tensorflow.keras.layers import Dense, Conv2D\n",
    "# from tensorflow.keras.layers import Conv1D, MaxPooling2D\n",
    "# from tensorflow.keras.layers import AveragePooling2D, Flatten\n",
    "# from tensorflow.keras.layers import Dropout\n",
    "# from tensorflow.keras.models import Sequential\n",
    "\n",
    "\n",
    "# from tensorflow.keras.utils import to_categorical\n",
    "\n",
    "# import numpy"
   ]
  },
  {
   "cell_type": "markdown",
   "metadata": {},
   "source": [
    "## starting the main code"
   ]
  },
  {
   "cell_type": "code",
   "execution_count": 6,
   "metadata": {},
   "outputs": [],
   "source": [
    "np.random.seed(myseed) # necessary for starting Numpy generated random numbers in a well-defined initial state.\n",
    "rn.seed(myseed+1) # necessary for starting core Python generated random numbers in a well-defined state.\n",
    "\n",
    "# The below is necessary in Python 3.2.3 onwards to\n",
    "# have reproducible behavior for certain hash-based operations.\n",
    "# See these references for further details:\n",
    "# https://docs.python.org/3.4/using/cmdline.html#envvar-PYTHONHASHSEED\n",
    "# https://github.com/fchollet/keras/issues/2280#issuecomment-306959926\n",
    "\n",
    "os.environ['PYTHONHASHSEED'] = '0'\n",
    "\n",
    "# Force TensorFlow to use single thread.\n",
    "# Multiple threads are a potential source of\n",
    "# non-reproducible results.\n",
    "# For further details, see: https://stackoverflow.com/questions/42022950/which-seeds-have-to-be-set-where-to-realize-100-reproducibility-of-training-res\n",
    "\n",
    "session_conf = tf.compat.v1.ConfigProto(intra_op_parallelism_threads=1, inter_op_parallelism_threads=1)\n",
    "\n",
    "from tensorflow.keras import backend as K\n",
    "\n",
    "# The below tf.set_random_seed() will make random number generation\n",
    "# in the TensorFlow backend have a well-defined initial state.\n",
    "# For further details, see: https://www.tensorflow.org/api_docs/python/tf/set_random_seed\n",
    "\n",
    "tf.compat.v2.random.set_seed(myseed+3)\n",
    "#tf.set_random_seed(1234)\n",
    "\n",
    "#sess = tf.compat.v2.Session(graph=tf.get_default_graph(), config=session_conf)\n",
    "#K.set_session(sess)"
   ]
  },
  {
   "cell_type": "markdown",
   "metadata": {
    "scrolled": true
   },
   "source": [
    "## reading the images"
   ]
  },
  {
   "cell_type": "code",
   "execution_count": 7,
   "metadata": {},
   "outputs": [],
   "source": [
    "from keras.preprocessing.image import ImageDataGenerator\n",
    "\n",
    "train_datagen = ImageDataGenerator(rescale=1./255,validation_split=validation_split)\n",
    "test_datagen = ImageDataGenerator(rescale=1./255)"
   ]
  },
  {
   "cell_type": "code",
   "execution_count": 8,
   "metadata": {
    "scrolled": true
   },
   "outputs": [
    {
     "name": "stdout",
     "output_type": "stream",
     "text": [
      "Found 76500 images belonging to 18 classes.\n",
      "Found 8500 images belonging to 18 classes.\n"
     ]
    }
   ],
   "source": [
    "training_set = train_datagen.flow_from_directory(datapath,\n",
    "                                                 subset='training',\n",
    "                                                 target_size = (img_sizeX,img_sizeY),\n",
    "                                                 batch_size = batch_size, \n",
    "                                                 class_mode='categorical',\n",
    "                                                shuffle=True,seed=myseed)\n",
    "\n",
    "validation_set= train_datagen.flow_from_directory(datapath, \n",
    "                                              subset='validation', \n",
    "                                              target_size = (img_sizeX,img_sizeY),\n",
    "                                              batch_size = batch_size,\n",
    "                                              class_mode='categorical',\n",
    "                                                 shuffle=False,seed=myseed)\n",
    "\n",
    "# test_set = test_datagen.flow_from_directory('data-keras-L20-100/test_set',\n",
    "#                                             target_size = (171, 171),\n",
    "#                                             batch_size = batch_size,\n",
    "#                                             class_mode='categorical',\n",
    "#                                            shuffle=False)"
   ]
  },
  {
   "cell_type": "code",
   "execution_count": 9,
   "metadata": {},
   "outputs": [],
   "source": [
    "# X_train, X_labels = next(training_set)\n",
    "# Y_train, Y_labels = next(validation_set)\n",
    "# len(X_train),len(X_labels),len(Y_train),len(Y_labels)"
   ]
  },
  {
   "cell_type": "code",
   "execution_count": 10,
   "metadata": {},
   "outputs": [],
   "source": [
    "num_of_train_samples = training_set.samples\n",
    "num_of_test_samples = validation_set.samples\n",
    "num_classes = len(validation_set.class_indices)"
   ]
  },
  {
   "cell_type": "code",
   "execution_count": 11,
   "metadata": {},
   "outputs": [
    {
     "data": {
      "image/png": "[encoded data removed]",
      "text/plain": [
       "<Figure size 720x360 with 6 Axes>"
      ]
     },
     "metadata": {
      "needs_background": "light"
     },
     "output_type": "display_data"
    }
   ],
   "source": [
    "plt.figure(figsize=(10,5))\n",
    "for i in range(6):\n",
    "    plt.subplot(2,3,i+1)\n",
    "    for x,y in validation_set:\n",
    "        plt.imshow(x[0],cmap='hsv')\n",
    "        #plt.title('y={}'.format(y[0]))\n",
    "        plt.axis('off')\n",
    "        break\n",
    "plt.tight_layout()\n",
    "plt.show()"
   ]
  },
  {
   "cell_type": "markdown",
   "metadata": {},
   "source": [
    "## building the CNN"
   ]
  },
  {
   "cell_type": "code",
   "execution_count": 12,
   "metadata": {},
   "outputs": [
    {
     "name": "stderr",
     "output_type": "stream",
     "text": [
      "/warwick/desktop/2018/software/TensorFlow/2.1.0-fosscuda-2019b-Python-3.7.4/lib/python3.7/site-packages/keras_applications/resnet50.py:265: UserWarning: The output shape of `ResNet50(include_top=False)` has been changed since Keras 2.2.0.\n",
      "  warnings.warn('The output shape of `ResNet50(include_top=False)` '\n"
     ]
    },
    {
     "name": "stdout",
     "output_type": "stream",
     "text": [
      "CNN architecture (Resnet50) created successfully!\n"
     ]
    }
   ],
   "source": [
    "from keras.applications.resnet50 import ResNet50, preprocess_input, decode_predictions\n",
    "from keras.preprocessing import image\n",
    "\n",
    "resnet = ResNet50(include_top=False,weights='imagenet',input_shape=(img_sizeX, img_sizeY, 3))\n",
    "\n",
    "def create_CNN():\n",
    "    # instantiate model\n",
    "    model= Sequential([\n",
    "        resnet,Flatten(),\n",
    "        Dense(num_classes, activation='sigmoid'),\n",
    "    ])\n",
    "    \n",
    "    return model\n",
    "\n",
    "print('CNN architecture (Resnet50) created successfully!')"
   ]
  },
  {
   "cell_type": "code",
   "execution_count": 13,
   "metadata": {},
   "outputs": [
    {
     "name": "stdout",
     "output_type": "stream",
     "text": [
      "Model compiled successfully and ready to be trained.\n"
     ]
    }
   ],
   "source": [
    "# Choose the Optimizer and the Cost Function\n",
    "\n",
    "opt = optimizers.SGD(lr=mylr, decay=mywd)\n",
    "#opt = keras.optimizers.Adam(lr=mylr, decay=mywd)\n",
    "\n",
    "def compile_model(optimizer=opt):\n",
    "    # create the mode\n",
    "    model=create_CNN()\n",
    "    # compile the model\n",
    "    model.compile(loss=keras.losses.categorical_crossentropy,\n",
    "                  optimizer=optimizer,\n",
    "                  metrics=['accuracy','categorical_crossentropy'])\n",
    "    return model\n",
    "\n",
    "print('Model compiled successfully and ready to be trained.')"
   ]
  },
  {
   "cell_type": "code",
   "execution_count": 14,
   "metadata": {},
   "outputs": [
    {
     "name": "stdout",
     "output_type": "stream",
     "text": [
      "Model: \"sequential_1\"\n",
      "_________________________________________________________________\n",
      "Layer (type)                 Output Shape              Param #   \n",
      "=================================================================\n",
      "resnet50 (Model)             (None, 4, 4, 2048)        23587712  \n",
      "_________________________________________________________________\n",
      "flatten_1 (Flatten)          (None, 32768)             0         \n",
      "_________________________________________________________________\n",
      "dense_1 (Dense)              (None, 18)                589842    \n",
      "=================================================================\n",
      "Total params: 24,177,554\n",
      "Trainable params: 24,124,434\n",
      "Non-trainable params: 53,120\n",
      "_________________________________________________________________\n",
      "None\n"
     ]
    }
   ],
   "source": [
    "# opt = optimizers.SGD(lr=mylr, decay=mywd)\n",
    "# model.compile(optimizer = opt, loss = 'categorical_crossentropy', metrics = ['accuracy'])\n",
    "\n",
    "# create the deep neural net\n",
    "model = compile_model()\n",
    "print(model.summary())"
   ]
  },
  {
   "cell_type": "markdown",
   "metadata": {},
   "source": [
    "## learning the images"
   ]
  },
  {
   "cell_type": "code",
   "execution_count": null,
   "metadata": {},
   "outputs": [
    {
     "name": "stdout",
     "output_type": "stream",
     "text": [
      "Epoch 1/30\n",
      "1195/1195 [==============================] - 547s 458ms/step - loss: 2.8856 - accuracy: 0.0559 - categorical_crossentropy: 2.8856 - val_loss: 2.8811 - val_accuracy: 0.0592 - val_categorical_crossentropy: 2.8809\n",
      "Epoch 2/30\n",
      "1195/1195 [==============================] - 375s 314ms/step - loss: 2.8765 - accuracy: 0.0567 - categorical_crossentropy: 2.8765 - val_loss: 2.8724 - val_accuracy: 0.0593 - val_categorical_crossentropy: 2.8724\n",
      "Epoch 3/30\n",
      "1195/1195 [==============================] - 518s 433ms/step - loss: 2.8687 - accuracy: 0.0555 - categorical_crossentropy: 2.8688 - val_loss: 2.8655 - val_accuracy: 0.0593 - val_categorical_crossentropy: 2.8653\n",
      "Epoch 4/30\n",
      "1195/1195 [==============================] - 533s 446ms/step - loss: 2.8625 - accuracy: 0.0566 - categorical_crossentropy: 2.8625 - val_loss: 2.8600 - val_accuracy: 0.0593 - val_categorical_crossentropy: 2.8598\n",
      "Epoch 5/30\n",
      "1074/1195 [=========================>....] - ETA: 41s - loss: 2.8578 - accuracy: 0.0579 - categorical_crossentropy: 2.8578"
     ]
    },
    {
     "name": "stderr",
     "output_type": "stream",
     "text": [
      "/warwick/desktop/2018/software/Keras/2.3.1-fosscuda-2019b-Python-3.7.4/lib/python3.7/site-packages/keras/utils/data_utils.py:616: UserWarning: The input 780 could not be retrieved. It could be because a worker has died.\n",
      "  UserWarning)\n"
     ]
    },
    {
     "name": "stdout",
     "output_type": "stream",
     "text": [
      "\b\b\b\b\b\b\b\b\b\b\b\b\b\b\b\b\b\b\b\b\b\b\b\b\b\b\b\b\b\b\b\b\b\b\b\b\b\b\b\b\b\b\b\b\b\b\b\b\b\b\b\b\b\b\b\b\b\b\b\b\b\b\b\b\b\b\b\b\b\b\b\b\b\b\b\b\b\b\b\b\b\b\b\b\b\b\b\b\b\b\b\b\b\b\b\b\b\b\b\b\b\b\b\b\b\b\b\b\b\b\b\b\b\b\b\b\b\b\b\b\b\b\r",
      "1075/1195 [=========================>....] - ETA: 51s - loss: 2.8577 - accuracy: 0.0579 - categorical_crossentropy: 2.8578"
     ]
    },
    {
     "name": "stderr",
     "output_type": "stream",
     "text": [
      "/warwick/desktop/2018/software/Keras/2.3.1-fosscuda-2019b-Python-3.7.4/lib/python3.7/site-packages/keras/utils/data_utils.py:616: UserWarning: The input 558 could not be retrieved. It could be because a worker has died.\n",
      "  UserWarning)\n"
     ]
    },
    {
     "name": "stdout",
     "output_type": "stream",
     "text": [
      "1195/1195 [==============================] - 826s 691ms/step - loss: 2.8575 - accuracy: 0.0574 - categorical_crossentropy: 2.8575 - val_loss: 2.8559 - val_accuracy: 0.0593 - val_categorical_crossentropy: 2.8555\n",
      "Epoch 6/30\n",
      " 645/1195 [===============>..............] - ETA: 4:29 - loss: 2.8545 - accuracy: 0.0585 - categorical_crossentropy: 2.8545"
     ]
    },
    {
     "name": "stderr",
     "output_type": "stream",
     "text": [
      "/warwick/desktop/2018/software/Keras/2.3.1-fosscuda-2019b-Python-3.7.4/lib/python3.7/site-packages/keras/utils/data_utils.py:616: UserWarning: The input 1045 could not be retrieved. It could be because a worker has died.\n",
      "  UserWarning)\n"
     ]
    },
    {
     "name": "stdout",
     "output_type": "stream",
     "text": [
      "\b\b\b\b\b\b\b\b\b\b\b\b\b\b\b\b\b\b\b\b\b\b\b\b\b\b\b\b\b\b\b\b\b\b\b\b\b\b\b\b\b\b\b\b\b\b\b\b\b\b\b\b\b\b\b\b\b\b\b\b\b\b\b\b\b\b\b\b\b\b\b\b\b\b\b\b\b\b\b\b\b\b\b\b\b\b\b\b\b\b\b\b\b\b\b\b\b\b\b\b\b\b\b\b\b\b\b\b\b\b\b\b\b\b\b\b\b\b\b\b\b\b\b\r",
      " 646/1195 [===============>..............] - ETA: 5:21 - loss: 2.8545 - accuracy: 0.0586 - categorical_crossentropy: 2.8545"
     ]
    },
    {
     "name": "stderr",
     "output_type": "stream",
     "text": [
      "/warwick/desktop/2018/software/Keras/2.3.1-fosscuda-2019b-Python-3.7.4/lib/python3.7/site-packages/keras/utils/data_utils.py:616: UserWarning: The input 585 could not be retrieved. It could be because a worker has died.\n",
      "  UserWarning)\n"
     ]
    },
    {
     "name": "stdout",
     "output_type": "stream",
     "text": [
      "1195/1195 [==============================] - 867s 725ms/step - loss: 2.8537 - accuracy: 0.0567 - categorical_crossentropy: 2.8537 - val_loss: 2.8523 - val_accuracy: 0.0593 - val_categorical_crossentropy: 2.8521\n",
      "Epoch 7/30\n",
      "1195/1195 [==============================] - 430s 360ms/step - loss: 2.8508 - accuracy: 0.0578 - categorical_crossentropy: 2.8508 - val_loss: 2.8495 - val_accuracy: 0.0593 - val_categorical_crossentropy: 2.8495\n",
      "Epoch 8/30\n",
      "1079/1195 [==========================>...] - ETA: 35s - loss: 2.8486 - accuracy: 0.0567 - categorical_crossentropy: 2.8486"
     ]
    },
    {
     "name": "stderr",
     "output_type": "stream",
     "text": [
      "/warwick/desktop/2018/software/Keras/2.3.1-fosscuda-2019b-Python-3.7.4/lib/python3.7/site-packages/keras/utils/data_utils.py:616: UserWarning: The input 1107 could not be retrieved. It could be because a worker has died.\n",
      "  UserWarning)\n"
     ]
    },
    {
     "name": "stdout",
     "output_type": "stream",
     "text": [
      "\b\b\b\b\b\b\b\b\b\b\b\b\b\b\b\b\b\b\b\b\b\b\b\b\b\b\b\b\b\b\b\b\b\b\b\b\b\b\b\b\b\b\b\b\b\b\b\b\b\b\b\b\b\b\b\b\b\b\b\b\b\b\b\b\b\b\b\b\b\b\b\b\b\b\b\b\b\b\b\b\b\b\b\b\b\b\b\b\b\b\b\b\b\b\b\b\b\b\b\b\b\b\b\b\b\b\b\b\b\b\b\b\b\b\b\b\b\b\b\b\b\b\r",
      "1080/1195 [==========================>...] - ETA: 39s - loss: 2.8486 - accuracy: 0.0567 - categorical_crossentropy: 2.8486"
     ]
    },
    {
     "name": "stderr",
     "output_type": "stream",
     "text": [
      "/warwick/desktop/2018/software/Keras/2.3.1-fosscuda-2019b-Python-3.7.4/lib/python3.7/site-packages/keras/utils/data_utils.py:616: UserWarning: The input 60 could not be retrieved. It could be because a worker has died.\n",
      "  UserWarning)\n"
     ]
    },
    {
     "name": "stdout",
     "output_type": "stream",
     "text": [
      "\b\b\b\b\b\b\b\b\b\b\b\b\b\b\b\b\b\b\b\b\b\b\b\b\b\b\b\b\b\b\b\b\b\b\b\b\b\b\b\b\b\b\b\b\b\b\b\b\b\b\b\b\b\b\b\b\b\b\b\b\b\b\b\b\b\b\b\b\b\b\b\b\b\b\b\b\b\b\b\b\b\b\b\b\b\b\b\b\b\b\b\b\b\b\b\b\b\b\b\b\b\b\b\b\b\b\b\b\b\b\b\b\b\b\b\b\b\b\b\b\b\b\r",
      "1081/1195 [==========================>...] - ETA: 46s - loss: 2.8486 - accuracy: 0.0566 - categorical_crossentropy: 2.8486"
     ]
    },
    {
     "name": "stderr",
     "output_type": "stream",
     "text": [
      "/warwick/desktop/2018/software/Keras/2.3.1-fosscuda-2019b-Python-3.7.4/lib/python3.7/site-packages/keras/utils/data_utils.py:616: UserWarning: The input 417 could not be retrieved. It could be because a worker has died.\n",
      "  UserWarning)\n"
     ]
    },
    {
     "name": "stdout",
     "output_type": "stream",
     "text": [
      "1195/1195 [==============================] - 673s 563ms/step - loss: 2.8485 - accuracy: 0.0562 - categorical_crossentropy: 2.8485 - val_loss: 2.8476 - val_accuracy: 0.0593 - val_categorical_crossentropy: 2.8474\n",
      "Epoch 9/30\n",
      "1195/1195 [==============================] - 515s 431ms/step - loss: 2.8466 - accuracy: 0.0576 - categorical_crossentropy: 2.8466 - val_loss: 2.8459 - val_accuracy: 0.0593 - val_categorical_crossentropy: 2.8458\n",
      "Epoch 10/30\n",
      " 203/1195 [====>.........................] - ETA: 3:32 - loss: 2.8457 - accuracy: 0.0589 - categorical_crossentropy: 2.8457"
     ]
    },
    {
     "name": "stderr",
     "output_type": "stream",
     "text": [
      "/warwick/desktop/2018/software/Keras/2.3.1-fosscuda-2019b-Python-3.7.4/lib/python3.7/site-packages/keras/utils/data_utils.py:616: UserWarning: The input 463 could not be retrieved. It could be because a worker has died.\n",
      "  UserWarning)\n"
     ]
    },
    {
     "name": "stdout",
     "output_type": "stream",
     "text": [
      "1195/1195 [==============================] - 403s 337ms/step - loss: 2.8451 - accuracy: 0.0571 - categorical_crossentropy: 2.8451 - val_loss: 2.8446 - val_accuracy: 0.0593 - val_categorical_crossentropy: 2.8445\n",
      "Epoch 11/30\n",
      "1195/1195 [==============================] - 342s 286ms/step - loss: 2.8439 - accuracy: 0.0569 - categorical_crossentropy: 2.8439 - val_loss: 2.8435 - val_accuracy: 0.0593 - val_categorical_crossentropy: 2.8433\n",
      "Epoch 12/30\n",
      " 129/1195 [==>...........................] - ETA: 11:04 - loss: 2.8433 - accuracy: 0.0555 - categorical_crossentropy: 2.8433"
     ]
    }
   ],
   "source": [
    "# train DNN and store training info in history\n",
    "history = model.fit_generator(training_set,\n",
    "                         steps_per_epoch = training_set.samples // batch_size,\n",
    "                         epochs = myepochs,\n",
    "                         validation_data = validation_set,\n",
    "                         validation_steps = validation_set.samples // batch_size)"
   ]
  },
  {
   "cell_type": "code",
   "execution_count": null,
   "metadata": {},
   "outputs": [],
   "source": [
    "# tf.keras.models.save_model(history,'Anderson_Ohtsuki_model_L20_500_keras_SGD_0_01_good_input_size.h5') \n",
    "model.save(modelpath) \n",
    "\n",
    "import pickle \n",
    "f=open(historypath,\"wb\")\n",
    "pickle.dump(history,f)\n",
    "f.close()"
   ]
  },
  {
   "cell_type": "markdown",
   "metadata": {},
   "source": [
    "## testing the quality of the learned model"
   ]
  },
  {
   "cell_type": "code",
   "execution_count": null,
   "metadata": {},
   "outputs": [],
   "source": [
    "#history = load_model(modelpath)"
   ]
  },
  {
   "cell_type": "markdown",
   "metadata": {},
   "source": [
    "### training history"
   ]
  },
  {
   "cell_type": "code",
   "execution_count": null,
   "metadata": {},
   "outputs": [],
   "source": [
    "# evaluate model\n",
    "score=model.evaluate(validation_set,verbose=1)\n",
    "\n",
    "# print performance\n",
    "print()\n",
    "print('Test loss:', score[0])\n",
    "print('Test accuracy:', score[1])\n",
    "\n",
    "# look into training history\n",
    "\n",
    "# summarize history for accuracy\n",
    "fig=plt.figure()\n",
    "plt.plot(history.history['accuracy'])\n",
    "plt.plot(history.history['val_accuracy'])\n",
    "plt.ylabel('model accuracy')\n",
    "plt.xlabel('epoch')\n",
    "plt.legend(['train', 'test'], loc='best')\n",
    "plt.title(dataname)\n",
    "plt.show()\n",
    "fig.savefig(savepath+'/'+method+'_'+dataname+'_accuracy'+'.png')"
   ]
  },
  {
   "cell_type": "code",
   "execution_count": null,
   "metadata": {},
   "outputs": [],
   "source": [
    "# summarize history for loss\n",
    "fig=plt.figure()\n",
    "plt.plot(history.history['loss'])\n",
    "plt.plot(history.history['val_loss'])\n",
    "plt.ylabel('model loss')\n",
    "plt.xlabel('epoch')\n",
    "plt.legend(['train', 'test'], loc='best')\n",
    "plt.title(dataname)\n",
    "plt.show()\n",
    "fig.savefig(savepath+'/'+method+'_'+dataname+'_loss'+'.png')"
   ]
  },
  {
   "cell_type": "markdown",
   "metadata": {},
   "source": [
    "### confusion matrix"
   ]
  },
  {
   "cell_type": "code",
   "execution_count": null,
   "metadata": {},
   "outputs": [],
   "source": [
    "validation_set.reset()\n",
    "label=validation_set.class_indices.keys()\n",
    "\n",
    "#Confusion Matrix \n",
    "Y_pred = model.predict_generator(validation_set, num_of_test_samples // batch_size+1, verbose=1)\n",
    "y_pred = np.argmax(Y_pred, axis=1)\n",
    "\n",
    "#basic confusion matrix\n",
    "confusion_matrix(validation_set.classes, y_pred)"
   ]
  },
  {
   "cell_type": "code",
   "execution_count": null,
   "metadata": {},
   "outputs": [],
   "source": [
    "print(os.getcwd())\n",
    "#os.chdir('../../../../PyCode/')\n",
    "sys.path.insert(0,'../../../../PyCode/')\n",
    "from plot_confusion_matrix import *\n",
    "\n",
    "print(plot_confusion_matrix(confusion_matrix(validation_set.classes, y_pred),\n",
    "                          label,savepath+'/'+method+'_'+dataname+'_cfm'+'.png',\n",
    "                          title='Confusion matrix for '+dataname,\n",
    "                          cmap=None,\n",
    "                          normalize=True))\n",
    "#os.chdir('../src/')"
   ]
  },
  {
   "cell_type": "code",
   "execution_count": null,
   "metadata": {},
   "outputs": [],
   "source": [
    "%%javascript\n",
    "IPython.notebook.save_notebook()"
   ]
  },
  {
   "cell_type": "code",
   "execution_count": null,
   "metadata": {},
   "outputs": [],
   "source": []
  }
 ],
 "metadata": {
  "kernelspec": {
   "display_name": "Python 3",
   "language": "python",
   "name": "python3"
  },
  "language_info": {
   "codemirror_mode": {
    "name": "ipython",
    "version": 3
   },
   "file_extension": ".py",
   "mimetype": "text/x-python",
   "name": "python",
   "nbconvert_exporter": "python",
   "pygments_lexer": "ipython3",
   "version": "3.7.4"
  }
 },
 "nbformat": 4,
 "nbformat_minor": 2
}
