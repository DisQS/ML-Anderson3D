{
 "cells": [
  {
   "cell_type": "code",
   "execution_count": 1,
   "metadata": {},
   "outputs": [],
   "source": [
    "import os\n",
    "import numpy as np\n",
    "from numpy.random import randint\n",
    "import random\n",
    "os.chdir(\"/home/physics/phubdf/Test_Train_3D/Ext\")\n",
    "\n",
    "\n",
    "for i in range(0,1000):\n",
    "    x = np.full((20*20*20), 0.5)\n",
    "    for j in range(0,20*20*20):\n",
    "        a = random.uniform(-0.05,0.05)\n",
    "        x[j] = x[j]+a\n",
    "        x[j] = x[j]*0.05\n",
    "    np.savetxt(f\"Ext({i+1}).raw\", x, delimiter=\" \")\n",
    "    "
   ]
  },
  {
   "cell_type": "code",
   "execution_count": null,
   "metadata": {},
   "outputs": [],
   "source": []
  }
 ],
 "metadata": {
  "kernelspec": {
   "display_name": "Python 3",
   "language": "python",
   "name": "python3"
  },
  "language_info": {
   "codemirror_mode": {
    "name": "ipython",
    "version": 3
   },
   "file_extension": ".py",
   "mimetype": "text/x-python",
   "name": "python",
   "nbconvert_exporter": "python",
   "pygments_lexer": "ipython3",
   "version": "3.8.6"
  }
 },
 "nbformat": 4,
 "nbformat_minor": 4
}
