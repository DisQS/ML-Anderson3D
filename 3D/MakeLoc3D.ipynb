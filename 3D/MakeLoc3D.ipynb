{
 "cells": [
  {
   "cell_type": "code",
   "execution_count": 1,
   "metadata": {},
   "outputs": [],
   "source": [
    "import os\n",
    "import numpy as np\n",
    "from numpy.random import randint\n",
    "os.chdir(\"/home/physics/phubdf/Test_Train_3D/Loc\")\n",
    "\n",
    "\n",
    "for i in range(0,1000):\n",
    "    x = np.full((20*20*20), 0.00001)\n",
    "    a = randint(0,20*20*20)\n",
    "    x[a] = 1\n",
    "    np.savetxt(f\"Loc({i+1}).raw\", x, delimiter=\" \")"
   ]
  },
  {
   "cell_type": "code",
   "execution_count": null,
   "metadata": {},
   "outputs": [],
   "source": []
  }
 ],
 "metadata": {
  "kernelspec": {
   "display_name": "Python 3",
   "language": "python",
   "name": "python3"
  },
  "language_info": {
   "codemirror_mode": {
    "name": "ipython",
    "version": 3
   },
   "file_extension": ".py",
   "mimetype": "text/x-python",
   "name": "python",
   "nbconvert_exporter": "python",
   "pygments_lexer": "ipython3",
   "version": "3.8.6"
  }
 },
 "nbformat": 4,
 "nbformat_minor": 4
}
